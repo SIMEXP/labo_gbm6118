{
 "cells": [
  {
   "cell_type": "markdown",
   "metadata": {},
   "source": [
    "<div align=\"center\">\n",
    "  <h2> Laboratoire GBM 6118 – Qualite des Images 2017 </h2>\n",
    "</div>"
   ]
  },
  {
   "cell_type": "markdown",
   "metadata": {},
   "source": [
    "<div align=\"center\">\n",
    "     *Pierre Bellec (pierre.bellec@criugm.qc.ca)*<br>\n",
    "     *Institut de Génie Biomédical*, *Département d'informatique et de recherche opérationnelle (DIRO)*<br>\n",
    "     *Centre de Recherche de l’Institut Universitaire de Geriatrie de Montréal*, *Université de Montréal*<br>\n",
    "</div>"
   ]
  },
  {
   "cell_type": "markdown",
   "metadata": {},
   "source": [
    "### Objectif:"
   ]
  },
  {
   "cell_type": "markdown",
   "metadata": {},
   "source": [
    "L’objectif de ce laboratoire est de vous donner l’opportunité d’observer et de quantifier certains aspects de la\n",
    "qualité des images, et leur impact sur la détection, la localisation et la quantification. Nous allons commencer par regarder quelques propriétés des processus de Poisson, qui sera utilisé pour ajouter du bruit dans les images. SVP téléchargez l'archive `code_labo_qualite_images.zip` sur studium, et décompressez le code correspondant dans votre dossier Matlab. Nous utiliserons ces fonctions dans le laboratoire. Inclure le code et éventuellement les figures pour l'ensemble des questions. "
   ]
  },
  {
   "cell_type": "markdown",
   "metadata": {},
   "source": [
    "### Exercice 1: Processus de Poisson\n",
    "De nombreux processus aléatoires ponctuels peuvent être décrits par un processus de Poisson. L’émission\n",
    "de photons $X$ à partir d’un tube radiogène ou l’émission de photons visibles par un amplificateur de luminance en radiologie, l’émission de photons gamma à partir d’une source radioactive en médecine nucléaire,\n",
    "et l’émission d’électrons à partir d’un filament chaud sont des exemples de tels processus. Un processus de Poisson modélise le nombre d’événements dans une fenêtre de temps donnée,\n",
    "sous les hypothèses suivantes:\n",
    "  * Le nombre moyen d’événements est fixe ($λ$) durant la période d’observation.\n",
    "  * Le temps d’arrivée d’un événement est indépendant du temps d’arrivée de l’événement précédent.\n",
    "La distribution du nombre d’évènements produit par le processus de Poisson en cause est donnée par\n",
    "l’expression:\n",
    "\\begin{equation}\n",
    " \\textrm{Pr}(N=k) = \\frac{\\lambda^k}{k!}e^{-\\lambda},\n",
    "\\end{equation}\n",
    "où $k$ est le nombre d’évènements observés."
   ]
  },
  {
   "cell_type": "markdown",
   "metadata": {},
   "source": [
    "#### Question 1. \n",
    "La fonction Matlab `poissrnd_pm` est un générateur de nombres aléatoires distribués selon une loi de\n",
    "Poisson. Utilisez la commande `help poissrnd_pm` pour comprendre quels arguments utilise cette fonction. Génèrez un vecteur colonne de 3500 éléments dont la moyenne est 3.2. Vérifiez que la taille de l’échantillon est correcte avec la commande `size`."
   ]
  },
  {
   "cell_type": "markdown",
   "metadata": {},
   "source": [
    "#### Question 2. \n",
    "Visualisez l’histogramme de la distribution. Utilisez pour cela la commande `hist`. Spécifiez les centre des classes sur des valeurs entières, car la loi de poisson génère des nombres entiers."
   ]
  },
  {
   "cell_type": "markdown",
   "metadata": {},
   "source": [
    "#### Question 3.\n",
    "Vérifiez que la moyenne est a peu près de 3.2 (voir `mean`). Une des propriétés de la loi de Poisson est\n",
    "que la variance est égale à la moyenne. Vérifiez également cela (voir `var`). Répétez l’expérience avec deux valeurs suplémentaires de λ."
   ]
  },
  {
   "cell_type": "markdown",
   "metadata": {},
   "source": [
    "#### Question 4. \n",
    "Lorsque λ est plus grand que 5, on approxime souvent la distribution de Poisson par une gaussienne de moyenne λ et d’écart-type racine de λ. Verifiez ceci pour une “grande” valeur λ de votre choix. Calculez l’histogramme d’un grand nombre d’échantillons (par exemple 50 000) d’une variable de poisson, et superposez l’histogramme d’échantillons gaussiens générés avec `randn`, à l'aide de la fonction `bar`. "
   ]
  },
  {
   "cell_type": "markdown",
   "metadata": {},
   "source": [
    "### Exercice 2: Detection"
   ]
  },
  {
   "cell_type": "markdown",
   "metadata": {},
   "source": [
    "#### Question 2.1.\n",
    "Générez une image comprenant un carré de 42 pixels de côté (voir `help simu_img`) et une amplitude de $\\lambda=70$, avec un arriére-plan d'une amplitude de $\\lambda=50$. On n'ajoutera pas de flou dans l'image (`fwhm=0`). Notez que les valeurs de l'image suivent une distribution de Poisson. On pourra visualiser l'image avec la commande `imagesc`. Notez aussi la command `axis equal` pour respecter la géométrie de l'image. "
   ]
  },
  {
   "cell_type": "markdown",
   "metadata": {},
   "source": [
    "#### Question 2.2.\n",
    "La fonction `simu_img` renvoie aussi une image de la \"vérité de terrain\", c'est à dire une image binaire où l'avant-plan est rempli de 1, et l'arriére plan est rempli de 0. Représenter l'image simulée dans la question 2.1. et la vérité de terrain l'une à côté de l'autre, à l'aide de la commande `subplot`."
   ]
  },
  {
   "cell_type": "markdown",
   "metadata": {},
   "source": [
    "#### Question 3.3.\n",
    "Recommencez les questions 3.1 et 3.2, mais avec un paramètre `fwhm` de 20. Qu'observez-vous? Est-ce un probléme lié au bruit de Poisson?"
   ]
  },
  {
   "cell_type": "markdown",
   "metadata": {},
   "source": [
    "#### Question 3.4.\n",
    "Tracez la valeur moyenne dans le carré central en fonction du paramètre fwhm, à faire varier entre 0 et 30. Qu'observez-vous?"
   ]
  },
  {
   "cell_type": "markdown",
   "metadata": {},
   "source": [
    "#### Question 3.5.\n",
    "Utiliser le paramètre `taille` de `simu_img` pour générer 6 carrés, de 7 pixels chacun. Trouver une valeur de `fwhm` pour laquelle il n'est pas possible de distinguer les carrés.  "
   ]
  }
 ],
 "metadata": {
  "kernelspec": {
   "display_name": "Octave",
   "language": "octave",
   "name": "octave"
  },
  "language_info": {
   "file_extension": ".m",
   "help_links": [
    {
     "text": "GNU Octave",
     "url": "https://www.gnu.org/software/octave/support.html"
    },
    {
     "text": "Octave Kernel",
     "url": "https://github.com/Calysto/octave_kernel"
    },
    {
     "text": "MetaKernel Magics",
     "url": "https://github.com/calysto/metakernel/blob/master/metakernel/magics/README.md"
    }
   ],
   "mimetype": "text/x-octave",
   "name": "octave",
   "version": "4.2.1"
  }
 },
 "nbformat": 4,
 "nbformat_minor": 1
}
